{
  "nbformat": 4,
  "nbformat_minor": 0,
  "metadata": {
    "colab": {
      "provenance": [],
      "authorship_tag": "ABX9TyOI1T6ohzAEApoiQ9txH9CK",
      "include_colab_link": true
    },
    "kernelspec": {
      "name": "python3",
      "display_name": "Python 3"
    },
    "language_info": {
      "name": "python"
    }
  },
  "cells": [
    {
      "cell_type": "markdown",
      "metadata": {
        "id": "view-in-github",
        "colab_type": "text"
      },
      "source": [
        "<a href=\"https://colab.research.google.com/github/Aashwin-Kumar/-python-built-in-functions/blob/main/About_Python_Lists.ipynb\" target=\"_parent\"><img src=\"https://colab.research.google.com/assets/colab-badge.svg\" alt=\"Open In Colab\"/></a>"
      ]
    },
    {
      "cell_type": "markdown",
      "source": [
        "**In This we are learning about Python List**"
      ],
      "metadata": {
        "id": "m6vJ-7hGL-UJ"
      }
    },
    {
      "cell_type": "markdown",
      "source": [
        "## 1) We can use * to combine lists"
      ],
      "metadata": {
        "id": "wnkiSGxtZn9-"
      }
    },
    {
      "cell_type": "code",
      "source": [
        "a = [1,2]\n",
        "b = [6,7]\n",
        "\n",
        "c = [*a, *b]\n",
        "print(c)"
      ],
      "metadata": {
        "colab": {
          "base_uri": "https://localhost:8080/"
        },
        "id": "dBg3CElWL3_g",
        "outputId": "ddabcee0-bbb4-4d6a-fb0a-783078c394de"
      },
      "execution_count": null,
      "outputs": [
        {
          "output_type": "stream",
          "name": "stdout",
          "text": [
            "[1, 2, 6, 7]\n"
          ]
        }
      ]
    },
    {
      "cell_type": "code",
      "source": [
        "d = [*a, b]\n",
        "print(d)"
      ],
      "metadata": {
        "colab": {
          "base_uri": "https://localhost:8080/"
        },
        "id": "D8mdkm87L4Bw",
        "outputId": "c693c769-f629-47eb-d152-da3b6e3e5547"
      },
      "execution_count": null,
      "outputs": [
        {
          "output_type": "stream",
          "name": "stdout",
          "text": [
            "[1, 2, [6, 7]]\n"
          ]
        }
      ]
    },
    {
      "cell_type": "code",
      "source": [
        "e = [a, b]\n",
        "print(e)"
      ],
      "metadata": {
        "colab": {
          "base_uri": "https://localhost:8080/"
        },
        "id": "LBfwafWpL4EM",
        "outputId": "d85b27a9-6294-45bb-9c51-56bc2c612ea0"
      },
      "execution_count": null,
      "outputs": [
        {
          "output_type": "stream",
          "name": "stdout",
          "text": [
            "[[1, 2], [6, 7]]\n"
          ]
        }
      ]
    },
    {
      "cell_type": "code",
      "source": [],
      "metadata": {
        "id": "FNr3XO6zL4Gh"
      },
      "execution_count": null,
      "outputs": []
    },
    {
      "cell_type": "markdown",
      "source": [
        "## 2) We can use * to unpack *lists*"
      ],
      "metadata": {
        "id": "1laAjReMaxG5"
      }
    },
    {
      "cell_type": "code",
      "source": [
        "food = ['meat', 'chicken', 'banana', 'roti','dal']\n",
        "\n",
        "x,y,*veg_food = food\n",
        "\n",
        "\n",
        "\n",
        "print(x)\n",
        "print(y)\n",
        "print(veg_food)"
      ],
      "metadata": {
        "colab": {
          "base_uri": "https://localhost:8080/"
        },
        "id": "c_XgyeYOL4K8",
        "outputId": "34b94daa-d021-4ef6-b847-8f6982227678"
      },
      "execution_count": null,
      "outputs": [
        {
          "output_type": "stream",
          "name": "stdout",
          "text": [
            "meat\n",
            "chicken\n",
            "['banana', 'roti', 'dal']\n"
          ]
        }
      ]
    },
    {
      "cell_type": "code",
      "source": [],
      "metadata": {
        "id": "TLKYtctqc3dH"
      },
      "execution_count": null,
      "outputs": []
    },
    {
      "cell_type": "markdown",
      "source": [
        "## 3) Using * unpack a list as function arguments\n"
      ],
      "metadata": {
        "id": "sZQ2qUCVcwg5"
      }
    },
    {
      "cell_type": "code",
      "source": [
        "def func(a,b,c):\n",
        "  print(a,b,c)\n",
        "\n",
        "func(1,2,3)"
      ],
      "metadata": {
        "colab": {
          "base_uri": "https://localhost:8080/"
        },
        "id": "AbYu7kwWL4NB",
        "outputId": "8d926d5c-eb49-4108-bd20-f8cb3f72ca42"
      },
      "execution_count": null,
      "outputs": [
        {
          "output_type": "stream",
          "name": "stdout",
          "text": [
            "1 2 3\n"
          ]
        }
      ]
    },
    {
      "cell_type": "code",
      "source": [
        "def func(a,b,c,d):\n",
        "  print(a,b,c,d)\n",
        "ls = [1,2,3,5]\n",
        "\n",
        "func(*ls)"
      ],
      "metadata": {
        "colab": {
          "base_uri": "https://localhost:8080/"
        },
        "id": "91KWG0QkewNL",
        "outputId": "ad123b27-c22d-4335-a67d-3f1d6c4ca85d"
      },
      "execution_count": null,
      "outputs": [
        {
          "output_type": "stream",
          "name": "stdout",
          "text": [
            "1 2 3 5\n"
          ]
        }
      ]
    },
    {
      "cell_type": "code",
      "source": [
        "def func(a):\n",
        "  print(a)\n",
        "ls = [1,2,3,5,8,99]\n",
        "\n",
        "func(ls)"
      ],
      "metadata": {
        "colab": {
          "base_uri": "https://localhost:8080/"
        },
        "id": "1g9fVGrCL4PJ",
        "outputId": "c66c0ece-0bb6-4b8c-a798-82eb516a5db8"
      },
      "execution_count": null,
      "outputs": [
        {
          "output_type": "stream",
          "name": "stdout",
          "text": [
            "[1, 2, 3, 5, 8, 99]\n"
          ]
        }
      ]
    },
    {
      "cell_type": "code",
      "source": [],
      "metadata": {
        "id": "hypTP3ORfMyD"
      },
      "execution_count": null,
      "outputs": []
    },
    {
      "cell_type": "markdown",
      "source": [
        "## 4) zip() to iterate through 2 lists concurrently\n"
      ],
      "metadata": {
        "id": "DodSVRT0fJ9T"
      }
    },
    {
      "cell_type": "code",
      "source": [
        "men = ['Ajay', 'Ashwin', 'Raj']\n",
        "women = ['sita', 'gita', 'radha']\n",
        "\n",
        "for i, j in zip(men,women):\n",
        "  print(i,j)"
      ],
      "metadata": {
        "colab": {
          "base_uri": "https://localhost:8080/"
        },
        "id": "zEd_bdNvL4VQ",
        "outputId": "40c0dcfb-5e69-4a51-fb52-5c38f13a1f10"
      },
      "execution_count": null,
      "outputs": [
        {
          "output_type": "stream",
          "name": "stdout",
          "text": [
            "Ajay sita\n",
            "Ashwin gita\n",
            "Raj radha\n"
          ]
        }
      ]
    },
    {
      "cell_type": "code",
      "source": [],
      "metadata": {
        "id": "zQ7Cg7ClL4Xq"
      },
      "execution_count": null,
      "outputs": []
    },
    {
      "cell_type": "markdown",
      "source": [
        "## 5) enumerate() to generate both index and value during iteration"
      ],
      "metadata": {
        "id": "oXzi046VgAIT"
      }
    },
    {
      "cell_type": "code",
      "source": [
        "topscore = [99,22,11,10]\n",
        "\n",
        "for rank, score in enumerate(topscore):\n",
        "  print(rank, score)\n"
      ],
      "metadata": {
        "colab": {
          "base_uri": "https://localhost:8080/"
        },
        "id": "_VNABXWEL4Zk",
        "outputId": "afef195f-7477-4361-a0ba-db6e03ded89e"
      },
      "execution_count": null,
      "outputs": [
        {
          "output_type": "stream",
          "name": "stdout",
          "text": [
            "0 99\n",
            "1 22\n",
            "2 11\n",
            "3 10\n"
          ]
        }
      ]
    },
    {
      "cell_type": "code",
      "source": [],
      "metadata": {
        "id": "_Q3k6Fquf-Bm"
      },
      "execution_count": null,
      "outputs": []
    },
    {
      "cell_type": "markdown",
      "source": [
        "## 6) .sort() vs sorted()\n",
        "\n"
      ],
      "metadata": {
        "id": "J014lTS1hF6s"
      }
    },
    {
      "cell_type": "markdown",
      "source": [
        "Both function sort the element but there is diffrance in them, lets understand that."
      ],
      "metadata": {
        "id": "7gDn1IuFhMoL"
      }
    },
    {
      "cell_type": "code",
      "source": [
        "l1 = [23,1,32,4,2,6,5]\n",
        "sorting = l1.sort()\n",
        "print('This is variable assign: ',sorting)\n",
        "print('Original list: ',l1)\n",
        "\n",
        "#original list itself becomes sorted."
      ],
      "metadata": {
        "colab": {
          "base_uri": "https://localhost:8080/"
        },
        "id": "W9bYcPzsf96l",
        "outputId": "1d6978cc-93b7-4ece-b9db-61990776c94d"
      },
      "execution_count": null,
      "outputs": [
        {
          "output_type": "stream",
          "name": "stdout",
          "text": [
            "This is variable assign:  None\n",
            "Original list:  [1, 2, 4, 5, 6, 23, 32]\n"
          ]
        }
      ]
    },
    {
      "cell_type": "code",
      "source": [
        "l2 = [23,1,32,4,2,6,5]\n",
        "sorting2 = sorted(l2)\n",
        "\n",
        "print('this is assign variable: ', sorting2)\n",
        "print('this is original list: ', l2)\n"
      ],
      "metadata": {
        "colab": {
          "base_uri": "https://localhost:8080/"
        },
        "id": "oRF4y2lzf94N",
        "outputId": "f611fc8a-776c-4cf2-8083-1276d0f14efe"
      },
      "execution_count": null,
      "outputs": [
        {
          "output_type": "stream",
          "name": "stdout",
          "text": [
            "this is assign variable:  [1, 2, 4, 5, 6, 23, 32]\n",
            "this is original list:  [23, 1, 32, 4, 2, 6, 5]\n"
          ]
        }
      ]
    },
    {
      "cell_type": "code",
      "source": [],
      "metadata": {
        "id": "jluf09n9jSdy"
      },
      "execution_count": null,
      "outputs": []
    },
    {
      "cell_type": "markdown",
      "source": [
        "## 7) .sort() with custom condition\n"
      ],
      "metadata": {
        "id": "_49yhXXYjK4o"
      }
    },
    {
      "cell_type": "code",
      "source": [
        "ls = [1, 32, 3, 31, 4, 5]\n",
        "\n",
        "def condition(x):\n",
        "  return x % 10\n",
        "ls.sort(key=condition)\n",
        "\n",
        "print(ls)\n",
        "\n"
      ],
      "metadata": {
        "colab": {
          "base_uri": "https://localhost:8080/"
        },
        "id": "xH9zRcUbf91m",
        "outputId": "fda77214-c173-44b7-d680-68d0c9041cf3"
      },
      "execution_count": null,
      "outputs": [
        {
          "output_type": "stream",
          "name": "stdout",
          "text": [
            "[1, 31, 32, 3, 4, 5]\n"
          ]
        }
      ]
    },
    {
      "cell_type": "code",
      "source": [
        "ls.sort(key = lambda x : x % 10)\n",
        "print(ls)"
      ],
      "metadata": {
        "colab": {
          "base_uri": "https://localhost:8080/"
        },
        "id": "dZSfcY9if9u1",
        "outputId": "c7eb5c41-1525-4667-d2b2-6142d4a415b2"
      },
      "execution_count": null,
      "outputs": [
        {
          "output_type": "stream",
          "name": "stdout",
          "text": [
            "[1, 31, 32, 3, 4, 5]\n"
          ]
        }
      ]
    },
    {
      "cell_type": "code",
      "source": [
        "#out of syllabus\n",
        "numbers = [1, 2, 3, 4]\n",
        "squared = list(map(lambda x: x ** 2, numbers))\n",
        "print(squared)"
      ],
      "metadata": {
        "colab": {
          "base_uri": "https://localhost:8080/"
        },
        "id": "ATzXoHoWf9sc",
        "outputId": "8f8df2e8-5c1a-40d4-86e4-64016b64cadb"
      },
      "execution_count": null,
      "outputs": [
        {
          "output_type": "stream",
          "name": "stdout",
          "text": [
            "[1, 4, 9, 16]\n"
          ]
        }
      ]
    },
    {
      "cell_type": "markdown",
      "source": [
        "**map objects are lazy, meaning they compute values on demand, making them memory efficient.**\n",
        "\n",
        "**map() returns a map object (an iterator).**\n",
        "\n",
        "\n",
        "\n",
        "\n"
      ],
      "metadata": {
        "id": "YuCKbkLWs_ce"
      }
    },
    {
      "cell_type": "code",
      "source": [
        "#out of syllabus\n",
        "sq = map(lambda x : x * 2, numbers)\n",
        "print(sq)\n",
        "\n",
        "for i in sq:\n",
        "  print(i)"
      ],
      "metadata": {
        "colab": {
          "base_uri": "https://localhost:8080/"
        },
        "id": "jFTWONpQf9qL",
        "outputId": "92659b8f-fb72-4786-f00d-76da7754bdd6"
      },
      "execution_count": null,
      "outputs": [
        {
          "output_type": "stream",
          "name": "stdout",
          "text": [
            "<map object at 0x7a92fb0ce020>\n"
          ]
        }
      ]
    },
    {
      "cell_type": "markdown",
      "source": [
        "**If you only need to iterate over the results once, you don’t even need to convert it into a list or tuple—just use it as an iterator directly.**"
      ],
      "metadata": {
        "id": "u4QoNJvytYr3"
      }
    },
    {
      "cell_type": "code",
      "source": [],
      "metadata": {
        "id": "QhOpq1wSf9nw"
      },
      "execution_count": null,
      "outputs": []
    },
    {
      "cell_type": "markdown",
      "source": [
        "## 8) List comprehension\n"
      ],
      "metadata": {
        "id": "UTBHfVoXwRCD"
      }
    },
    {
      "cell_type": "markdown",
      "source": [
        "The general syntax for list comprehension is:\n",
        "\n",
        "***new_list = [expression for item in iterable if condition]***\n"
      ],
      "metadata": {
        "id": "d7s_5OSOwffb"
      }
    },
    {
      "cell_type": "code",
      "source": [
        "#Normal way(Uppercasse each list items)\n",
        "\n",
        "names = ['ash', 'bash', 'mark']\n",
        "\n",
        "new = []\n",
        "\n",
        "for nm in names:\n",
        "  new.append(nm.upper())\n",
        "\n",
        "print(new)"
      ],
      "metadata": {
        "colab": {
          "base_uri": "https://localhost:8080/"
        },
        "id": "VzrlY_3Of9jC",
        "outputId": "42fe3cba-ef02-4e03-89cf-25f3ca093e2c"
      },
      "execution_count": null,
      "outputs": [
        {
          "output_type": "stream",
          "name": "stdout",
          "text": [
            "['ASH', 'BASH', 'MARK']\n"
          ]
        }
      ]
    },
    {
      "cell_type": "code",
      "source": [
        "#List comprehension\n",
        "\n",
        "new1 = [i.upper() for i in names]\n",
        "print(new1)"
      ],
      "metadata": {
        "colab": {
          "base_uri": "https://localhost:8080/"
        },
        "id": "alwO4vdwf9go",
        "outputId": "0ebca412-b15c-4d68-b713-7cf7fa14d68f"
      },
      "execution_count": null,
      "outputs": [
        {
          "output_type": "stream",
          "name": "stdout",
          "text": [
            "['ASH', 'BASH', 'MARK']\n"
          ]
        }
      ]
    },
    {
      "cell_type": "code",
      "source": [],
      "metadata": {
        "id": "AvJJwZKYZwI6"
      },
      "execution_count": null,
      "outputs": []
    },
    {
      "cell_type": "markdown",
      "source": [
        "## 9) Tuples vs Lists\n"
      ],
      "metadata": {
        "id": "QGPdZN63Zr_q"
      }
    },
    {
      "cell_type": "markdown",
      "source": [
        "## Tuples are essentially immutable lists. Which means that we cannot mutate our tuple (add/remove stuff) after we create our tuple.\n",
        "## We define a tuple using normal brackets instead of square brackets:\n",
        "\n",
        "1.  ✅ Tuples are immutables so we cant add or remove new element into tuple.\n",
        "2.  ❌ tuples are immutable, which means they are hashable which means they can be used as dictionary keys (lists can’t)\n",
        "\n"
      ],
      "metadata": {
        "id": "Oouzvbona2cK"
      }
    },
    {
      "cell_type": "code",
      "source": [
        "lists = [1,2,3,4,5,'ash']\n",
        "tuples = (1,2,3,4,5, 'win')\n",
        "\n",
        "lists.append(2)\n",
        "tuples.append(2)\n",
        "\n",
        "print(lists)\n",
        "print(tuples)\n",
        "\n",
        "#Intentionally made a mistake here for demo"
      ],
      "metadata": {
        "id": "MIJDU8SDf9ZO",
        "colab": {
          "base_uri": "https://localhost:8080/",
          "height": 211
        },
        "outputId": "9c6a1870-cf80-45d0-9083-a73cce80d199"
      },
      "execution_count": 10,
      "outputs": [
        {
          "output_type": "error",
          "ename": "AttributeError",
          "evalue": "'tuple' object has no attribute 'append'",
          "traceback": [
            "\u001b[0;31m---------------------------------------------------------------------------\u001b[0m",
            "\u001b[0;31mAttributeError\u001b[0m                            Traceback (most recent call last)",
            "\u001b[0;32m<ipython-input-10-cf98d359a531>\u001b[0m in \u001b[0;36m<cell line: 5>\u001b[0;34m()\u001b[0m\n\u001b[1;32m      3\u001b[0m \u001b[0;34m\u001b[0m\u001b[0m\n\u001b[1;32m      4\u001b[0m \u001b[0mlists\u001b[0m\u001b[0;34m.\u001b[0m\u001b[0mappend\u001b[0m\u001b[0;34m(\u001b[0m\u001b[0;36m2\u001b[0m\u001b[0;34m)\u001b[0m\u001b[0;34m\u001b[0m\u001b[0;34m\u001b[0m\u001b[0m\n\u001b[0;32m----> 5\u001b[0;31m \u001b[0mtuples\u001b[0m\u001b[0;34m.\u001b[0m\u001b[0mappend\u001b[0m\u001b[0;34m(\u001b[0m\u001b[0;36m2\u001b[0m\u001b[0;34m)\u001b[0m\u001b[0;34m\u001b[0m\u001b[0;34m\u001b[0m\u001b[0m\n\u001b[0m\u001b[1;32m      6\u001b[0m \u001b[0;34m\u001b[0m\u001b[0m\n\u001b[1;32m      7\u001b[0m \u001b[0mprint\u001b[0m\u001b[0;34m(\u001b[0m\u001b[0mlists\u001b[0m\u001b[0;34m)\u001b[0m\u001b[0;34m\u001b[0m\u001b[0;34m\u001b[0m\u001b[0m\n",
            "\u001b[0;31mAttributeError\u001b[0m: 'tuple' object has no attribute 'append'"
          ]
        }
      ]
    },
    {
      "cell_type": "code",
      "source": [],
      "metadata": {
        "id": "kiFkpAN2f9W4"
      },
      "execution_count": null,
      "outputs": []
    },
    {
      "cell_type": "markdown",
      "source": [
        "## 10) The .insert(index, element) method\n"
      ],
      "metadata": {
        "id": "5dXFisKNczkj"
      }
    },
    {
      "cell_type": "code",
      "source": [
        "lss = ['b','c','d','f']\n",
        "\n",
        "lss.insert(0,'A')\n",
        "\n",
        "print(lss)"
      ],
      "metadata": {
        "id": "D-yJhj01f9UP",
        "colab": {
          "base_uri": "https://localhost:8080/"
        },
        "outputId": "1c064e74-2e25-477c-c356-b9d6adce9f2a"
      },
      "execution_count": 13,
      "outputs": [
        {
          "output_type": "stream",
          "name": "stdout",
          "text": [
            "['A', 'b', 'c', 'd', 'f']\n"
          ]
        }
      ]
    },
    {
      "cell_type": "code",
      "source": [],
      "metadata": {
        "id": "sS_YwGByf9Rj"
      },
      "execution_count": null,
      "outputs": []
    },
    {
      "cell_type": "markdown",
      "source": [
        "## 11) The .extend(other_list) method\n",
        "\n",
        "We can use the .extend() method to add all elements in one list to the back of another.\n"
      ],
      "metadata": {
        "id": "n-SZaj0zddtX"
      }
    },
    {
      "cell_type": "code",
      "source": [
        "a = [1,2,3,4,5]\n",
        "b = [6,7,8,9]\n",
        "\n",
        "a.extend(b)\n",
        "\n",
        "print(a)"
      ],
      "metadata": {
        "id": "0O_3J1_of9PN",
        "colab": {
          "base_uri": "https://localhost:8080/"
        },
        "outputId": "bd9c551f-9a2e-47e4-b4be-9c589eb38757"
      },
      "execution_count": 15,
      "outputs": [
        {
          "output_type": "stream",
          "name": "stdout",
          "text": [
            "[1, 2, 3, 4, 5, 6, 7, 8, 9]\n"
          ]
        }
      ]
    },
    {
      "cell_type": "markdown",
      "source": [
        "Technically, we can do a = a + b , but this method creates an entirely new list, then assigns it to a. Which makes this method less memory efficient."
      ],
      "metadata": {
        "id": "HHKdmJ1YemNF"
      }
    },
    {
      "cell_type": "code",
      "source": [
        "names0 = ['Ashwin']\n",
        "names1 = ['Kumar']\n",
        "\n",
        "names0.extend(names1)\n",
        "\n",
        "print(names0)"
      ],
      "metadata": {
        "colab": {
          "base_uri": "https://localhost:8080/"
        },
        "id": "a_b0tu8qcjwb",
        "outputId": "8b0e72f5-6a51-45fc-bfba-0e69288a3730"
      },
      "execution_count": 17,
      "outputs": [
        {
          "output_type": "stream",
          "name": "stdout",
          "text": [
            "['Ashwin', 'Kumar']\n"
          ]
        }
      ]
    },
    {
      "cell_type": "markdown",
      "source": [
        "## 12) list[start:end] = [1, 2, 3]\n",
        "we can replace elements in lists using list[index] = new_element.\n"
      ],
      "metadata": {
        "id": "6KaMgZJyfIJh"
      }
    },
    {
      "cell_type": "code",
      "source": [
        "list22 = ['ash',1,2,3,'win']\n",
        "\n",
        "list22[1:4] = ['And']\n",
        "\n",
        "print(list22)"
      ],
      "metadata": {
        "colab": {
          "base_uri": "https://localhost:8080/"
        },
        "id": "6nSD0R7NcjuA",
        "outputId": "eb8666b6-67f9-4f5a-c589-c6a1cf9153c6"
      },
      "execution_count": 21,
      "outputs": [
        {
          "output_type": "stream",
          "name": "stdout",
          "text": [
            "['ash', 'And', 'win']\n"
          ]
        }
      ]
    },
    {
      "cell_type": "code",
      "source": [],
      "metadata": {
        "id": "A4wsiWSgcjr6"
      },
      "execution_count": null,
      "outputs": []
    },
    {
      "cell_type": "code",
      "source": [],
      "metadata": {
        "id": "Onsu8eeicjpR"
      },
      "execution_count": null,
      "outputs": []
    },
    {
      "cell_type": "code",
      "source": [],
      "metadata": {
        "id": "6a5Fua92cjm2"
      },
      "execution_count": null,
      "outputs": []
    },
    {
      "cell_type": "code",
      "source": [],
      "metadata": {
        "id": "JVG-7ePccjkn"
      },
      "execution_count": null,
      "outputs": []
    },
    {
      "cell_type": "code",
      "source": [],
      "metadata": {
        "id": "2Tiuo4spcjiF"
      },
      "execution_count": null,
      "outputs": []
    },
    {
      "cell_type": "code",
      "source": [],
      "metadata": {
        "id": "eh1PMKqscjfv"
      },
      "execution_count": null,
      "outputs": []
    },
    {
      "cell_type": "code",
      "source": [],
      "metadata": {
        "id": "ytRVduKWcjdY"
      },
      "execution_count": null,
      "outputs": []
    },
    {
      "cell_type": "code",
      "source": [],
      "metadata": {
        "id": "Y3sCf9_3cjav"
      },
      "execution_count": null,
      "outputs": []
    },
    {
      "cell_type": "code",
      "source": [],
      "metadata": {
        "id": "y0-uBe57cjYQ"
      },
      "execution_count": null,
      "outputs": []
    }
  ]
}